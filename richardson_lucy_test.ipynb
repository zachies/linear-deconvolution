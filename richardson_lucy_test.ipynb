{
 "cells": [
  {
   "cell_type": "code",
   "execution_count": 35,
   "metadata": {},
   "outputs": [],
   "source": [
    "from PIL import Image\n",
    "import numpy as np\n",
    "from skimage import img_as_float, data, restoration\n",
    "from scipy.signal import convolve2d\n",
    "import math\n",
    "\n",
    "def psf_gaussian(dim: tuple, s1: float = 0, s2: float = 0, i: int = 0, j: int = 0) -> np.ndarray:\n",
    "    '''\n",
    "    Returns a point spread function using a Gaussian blur.\n",
    "\n",
    "    Parameters:\n",
    "        dim (tuple): dimensions of the image to produce, ex. (3,3) for a 3x3 kernel\n",
    "        s1 (float): scaling factor for dim[0]\n",
    "        s2 (float): scaling factor for dim[1]\n",
    "        i (int): offset for center of psf in dim[0]\n",
    "        j (int): offset for center of psf in dim[1]\n",
    "\n",
    "    Returns:\n",
    "        Normalized matrix for Gaussian blur.\n",
    "    '''\n",
    "\n",
    "    # verify that kern size is not zero or negative\n",
    "    if dim[0] < 1 or dim[1] < 1:\n",
    "        raise ValueError(\"Dimensions must be greater than or equal to 1.\")\n",
    "\n",
    "    # verify that i and j offsets are in range [0, dim - 1]\n",
    "    if i < 0 or i >= dim[0] - 1:\n",
    "        raise ValueError(\"i must be in range of [0, dim - 1]\")\n",
    "    if j < 0 or j >= dim[1] - 1:\n",
    "        raise ValueError(\"j must be in range of [0, dim - 1]\")\n",
    "\n",
    "    # create matrix of zeros\n",
    "    p = np.zeros(dim)\n",
    "\n",
    "    # apply blur\n",
    "    for x in range(0, dim[0]):\n",
    "        for y in range(0, dim[1]):\n",
    "            p[x, y] = math.exp(-0.5 * ((x - i)/s1)**2 - 0.5 * ((y - j)/s2)**2)\n",
    "\n",
    "    # normalize p values to [0, 1]\n",
    "    # p = p / np.linalg.norm(p)\n",
    "\n",
    "    return p\n",
    "\n",
    "def save_img_raw(mat, path):\n",
    "    Image.fromarray((mat * 255 / np.max(mat)).astype('uint8')).save(path)\n",
    "\n",
    "path = 'samples/pumpkins.png'\n",
    "camera = img_as_float(np.asarray(Image.open(path)))\n",
    "\n",
    "# psf = np.ones((5,5)) / 25\n",
    "s          = 0.4\n",
    "psf_size   = (5, 5)\n",
    "psf_center = tuple(int(i/2) for i in psf_size)\n",
    "psf_raw    = psf_gaussian(psf_size, s, s, psf_center[0], psf_center[1])\n",
    "psf        = np.where(psf_raw < 1e-2, 0, psf_raw)\n",
    "\n",
    "camera = convolve2d(camera, psf, mode='same')\n",
    "save_img_raw(camera, 'results/camera.png')\n",
    "rng = np.random.default_rng()\n",
    "camera += 0.1 * rng.standard_normal(camera.shape)\n",
    "# deconvolved = restoration.richardson_lucy(camera, psf, 5, filter_epsilon=1e-2)\n",
    "deconvolved = restoration.richardson_lucy(camera, psf, num_iter=3, clip=True, filter_epsilon=1e-4)\n",
    "\n",
    "save_img_raw(deconvolved, 'results/test.png')"
   ]
  }
 ],
 "metadata": {
  "kernelspec": {
   "display_name": "Python 3.8.13 ('mat494')",
   "language": "python",
   "name": "python3"
  },
  "language_info": {
   "codemirror_mode": {
    "name": "ipython",
    "version": 3
   },
   "file_extension": ".py",
   "mimetype": "text/x-python",
   "name": "python",
   "nbconvert_exporter": "python",
   "pygments_lexer": "ipython3",
   "version": "3.8.13"
  },
  "orig_nbformat": 4,
  "vscode": {
   "interpreter": {
    "hash": "35bacb10ad4800ba26c5f733cab3ff54550bf5fe0bfb8294bbdc8524c212fc8a"
   }
  }
 },
 "nbformat": 4,
 "nbformat_minor": 2
}
