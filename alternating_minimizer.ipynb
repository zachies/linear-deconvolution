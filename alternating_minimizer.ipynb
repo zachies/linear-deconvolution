{
 "cells": [
  {
   "cell_type": "code",
   "execution_count": 155,
   "metadata": {},
   "outputs": [],
   "source": [
    "import cv2\n",
    "import math\n",
    "import numpy as np\n",
    "import pandas as pd\n",
    "\n",
    "import sys\n",
    "\n",
    "from PIL import Image\n",
    "\n",
    "from scipy import fftpack\n",
    "from scipy.fft import fft2, ifft2\n",
    "from scipy.linalg import norm\n",
    "from scipy.signal import deconvolve, fftconvolve\n",
    "from scipy.optimize import minimize, Bounds\n",
    "\n",
    "import plotly.express as px"
   ]
  },
  {
   "cell_type": "code",
   "execution_count": 156,
   "metadata": {},
   "outputs": [],
   "source": [
    "### Blurs\n",
    "def psf_gaussian(dim: tuple, s1: float = 0, s2: float = 0, i: int = 0, j: int = 0) -> np.ndarray:\n",
    "    '''\n",
    "    Returns a point spread function using a Gaussian blur.\n",
    "\n",
    "    Parameters:\n",
    "        dim (tuple): dimensions of the image to produce, ex. (3,3) for a 3x3 kernel\n",
    "        s1 (float): scaling factor for dim[0]\n",
    "        s2 (float): scaling factor for dim[1]\n",
    "        i (int): offset for center of psf in dim[0]\n",
    "        j (int): offset for center of psf in dim[1]\n",
    "\n",
    "    Returns:\n",
    "        Normalized matrix for Gaussian blur.\n",
    "    '''\n",
    "\n",
    "    # verify that kern size is not zero or negative\n",
    "    if dim[0] < 1 or dim[1] < 1:\n",
    "        raise ValueError(\"Dimensions must be greater than or equal to 1.\")\n",
    "\n",
    "    # verify that i and j offsets are in range [0, dim - 1]\n",
    "    if i < 0 or i >= dim[0] - 1:\n",
    "        raise ValueError(\"i must be in range of [0, dim - 1]\")\n",
    "    if j < 0 or j >= dim[1] - 1:\n",
    "        raise ValueError(\"j must be in range of [0, dim - 1]\")\n",
    "\n",
    "    # create matrix of zeros\n",
    "    p = np.zeros(dim)\n",
    "\n",
    "    # apply blur\n",
    "    for x in range(0, dim[0]):\n",
    "        for y in range(0, dim[1]):\n",
    "            p[x, y] = math.exp(-0.5 * ((x - i)/s1)**2 - 0.5 * ((y - j)/s2)**2)\n",
    "\n",
    "    # normalize p values to [0, 1]\n",
    "    # p = p / np.linalg.norm(p)\n",
    "\n",
    "    return p\n",
    "\n",
    "def add_noise(mat: np.ndarray, noise: float) -> np.ndarray:\n",
    "    '''\n",
    "    Adds noise to an image.\n",
    "\n",
    "    Parameters:\n",
    "        mat (ndarray): matrix to add noise to\n",
    "        noise (float): amount of noise to add in range [0, 1]\n",
    "\n",
    "    Returns:\n",
    "        New matrix with noise added.\n",
    "    '''\n",
    "    noisy_mat = mat.copy() + noise * np.random.random(mat.shape)\n",
    "\n",
    "    # normalize\n",
    "    norm = np.linalg.norm(noisy_mat)\n",
    "    # prevent divide by zero errors\n",
    "    if norm != 0:\n",
    "        noisy_mat = noisy_mat / np.linalg.norm(noisy_mat)\n",
    "\n",
    "    return noisy_mat"
   ]
  },
  {
   "cell_type": "code",
   "execution_count": 157,
   "metadata": {},
   "outputs": [],
   "source": [
    "### Borders\n",
    "def pad_psf(mat: np.ndarray, size: tuple) -> np.ndarray:\n",
    "    '''\n",
    "    Pads a point spread funciton with zeros. The original PSF will\n",
    "    appear in the upper-lerft corner in order to preserve center\n",
    "    of PSF for future computations.\n",
    "\n",
    "    Parameters:\n",
    "        mat (ndarray): matrix to pad\n",
    "        size (tuple): desired dimensions of the padded matrix\n",
    "\n",
    "    Returns:\n",
    "        Matrix containing the padded data.\n",
    "    '''\n",
    "\n",
    "    zeros = np.zeros(size)\n",
    "    zeros[0:mat.shape[0], 0:mat.shape[1]] = mat\n",
    "    return zeros\n",
    "\n",
    "def zeros(mat: np.ndarray, size: tuple = None) -> np.ndarray:\n",
    "    '''\n",
    "    Returns a matrix with zero boundary conditions.\n",
    "\n",
    "    Parameters:\n",
    "        mat (ndarray): Matrix to add boundary conditions to.\n",
    "        size (tuple): Number of pixels to include in the boundary.\n",
    "                      Use None to specify all pixels.\n",
    "    \n",
    "    Returns:\n",
    "        New matrix with boundary conditions.\n",
    "    '''\n",
    "\n",
    "    mat_zeros = np.zeros(mat.shape)\n",
    "    zeros_stack = np.vstack((mat_zeros, mat_zeros, mat_zeros))\n",
    "    mid_stack   = np.vstack((mat_zeros, mat,       mat_zeros))\n",
    "    result      = np.hstack((zeros_stack, mid_stack, zeros_stack))\n",
    "\n",
    "    if size:\n",
    "        return resize(result, size)\n",
    "    else:\n",
    "        return result\n",
    "\n",
    "def periodic(mat: np.ndarray, size: tuple = None) -> np.ndarray:\n",
    "    '''\n",
    "    Returns a matrix with periodic boundary conditions.\n",
    "\n",
    "    Parameters:\n",
    "        mat (ndarray): Matrix to add boundary conditions to.\n",
    "        size (tuple): Number of pixels to include in the boundary.\n",
    "                      Use None to specify all pixels.\n",
    "    \n",
    "    Returns:\n",
    "        New matrix with boundary conditions.\n",
    "    '''\n",
    "\n",
    "    stack  = np.vstack((mat, mat, mat))\n",
    "    result = np.hstack((stack, stack, stack))\n",
    "\n",
    "    if size:\n",
    "        return resize(result, size)\n",
    "    else:\n",
    "        return result\n",
    "\n",
    "def reflexive(mat: np.ndarray, size: tuple = None) -> np.ndarray:\n",
    "    '''\n",
    "    Returns a matrix with reflexive boundary conditions.\n",
    "\n",
    "    Parameters:\n",
    "        mat (ndarray): Matrix to add boundary conditions to.\n",
    "        size (tuple): Number of pixels to include in the boundary.\n",
    "                      Use None to specify all pixels.\n",
    "    \n",
    "    Returns:\n",
    "        New matrix with boundary conditions.\n",
    "    '''\n",
    "\n",
    "    mat_lr = np.fliplr(mat)\n",
    "    mat_ud = np.flipud(mat)\n",
    "    mat_x  = np.fliplr(mat_ud)\n",
    "\n",
    "    left_stack  = np.vstack((mat_x,  mat_lr, mat_x))\n",
    "    mid_stack   = np.vstack((mat_ud, mat,    mat_ud))\n",
    "    right_stack = np.vstack((mat_x,  mat_lr, mat_x))\n",
    "    result      = np.hstack((left_stack, mid_stack, right_stack))\n",
    "\n",
    "    if size:\n",
    "        return resize(result, size)\n",
    "    else:\n",
    "        return result\n",
    "\n",
    "def resize(mat, padding):\n",
    "    '''\n",
    "        Returns a matrix with only the padding needed.  \n",
    "        Returned matrix has the following structure:\n",
    "        (x+y) (y) (x+y)  \n",
    "        (x)   mat   (x)  \n",
    "        (x+y) (y) (x+y)  \n",
    "\n",
    "        Parameters:\n",
    "            mat (mat): original matrix\n",
    "            padding (tuple): how many pixels to pad, ex (5, 5)\n",
    "        \n",
    "        Returns:\n",
    "            matrix with padding applied\n",
    "    '''\n",
    "\n",
    "    padding_x, padding_y = padding\n",
    "\n",
    "    original_pos = mat.shape[0]/3\n",
    "    left_bound   = int(original_pos - 2*padding_x)\n",
    "    right_bound  = int(2*original_pos + 2*padding_x)\n",
    "    bottom_bound = int(original_pos - 2*padding_y)\n",
    "    top_bound    = int(2*original_pos + 2*padding_y)\n",
    "    return mat[bottom_bound:top_bound, left_bound:right_bound]\n",
    "\n",
    "def undo(mat: np.ndarray, size: tuple = None) -> np.ndarray:\n",
    "    '''\n",
    "        Extracts the center part of a matrix by \"undoing\" the boundary condition operations. If a kernel size\n",
    "        is given, only the given pixels will be removed; otherwise, it will unpack a matrix into a 3x3 proportion\n",
    "        and return the middle matrix.\n",
    "\n",
    "        Parameters:\n",
    "            mat (ndarray): Matrix containing the original image with boundary conditions.\n",
    "            size (tuple): Dimensions of padding applied, ex. (3, 3)\n",
    "\n",
    "        Returns:\n",
    "            Center of matrix.\n",
    "    '''\n",
    "\n",
    "    # kernel size given, so slice it\n",
    "    if size:\n",
    "        padding_x = size[0]\n",
    "        padding_y = size[1]\n",
    "        return mat[padding_x:-padding_x, padding_y:-padding_y]\n",
    "    # no kernel size, so assume it's a 3x3 construction\n",
    "    else:\n",
    "        _, mid_stack, _ = np.hsplit(mat, 3)\n",
    "        _, mid_mat,   _ = np.vsplit(mid_stack, 3)\n",
    "        return mid_mat"
   ]
  },
  {
   "cell_type": "code",
   "execution_count": 158,
   "metadata": {},
   "outputs": [],
   "source": [
    "### FFT and DCT\n",
    "def circshift(mat, amt):\n",
    "    return np.roll(np.roll(mat, amt[0], axis=0), amt[1], axis=1)\n",
    "\n",
    "def naive_blur_fft(X, P, center):\n",
    "    return blur_fft(X, P, center, error = 0)\n",
    "\n",
    "def blur_fft(X, P, center, error = 0):\n",
    "    # compute eigenvalues\n",
    "    S = fft2(circshift(P, (0 - center[0], 0 - center[1])))\n",
    "    # compute blurred image\n",
    "    B = np.real(ifft2(np.multiply(S, fft2(X))))\n",
    "    # normalize to values in range [0, 1]\n",
    "    B = (B - np.min(B))/(np.max(B) - np.min(B)) # normalizes\n",
    "    # check if noise is present\n",
    "    if error == 0:\n",
    "        return B\n",
    "    # create noisy matrix with shape of blurred image\n",
    "    noise = B + (np.random.rand(*B.shape) * error)\n",
    "    # normalize result again\n",
    "    return (noise - np.min(noise))/(np.max(noise) - np.min(noise)) # normalizes\n",
    "\n",
    "def naive_deblur_fft(B, P, center):\n",
    "    # compute eigenvalues\n",
    "    S = fft2(circshift(P, (0 - center[0], 0 - center[1])))\n",
    "    # fix for eigenvalues equal to zero\n",
    "    S = np.where(S != math.inf, S, np.finfo(np.float64).eps)\n",
    "    # compute deblurred image\n",
    "    X = np.real(ifft2(np.divide(fft2(B), S)))\n",
    "    return X\n",
    "\n",
    "def gcv(alpha, s, bhat):\n",
    "    phi_d = np.divide(1, (np.abs(s)**2 + alpha**2))\n",
    "    G = np.divide(np.sum(np.abs(bhat * phi_d)**2), np.sum(phi_d)**2)\n",
    "    return G\n",
    "\n",
    "def gcv_tik(s, bhat):\n",
    "    # helps alleviate divide by zero issues\n",
    "    # float_info.epsilon is the smallest possible floating point number greater than zero\n",
    "    lb = max(np.amin(np.abs(s)), sys.float_info.epsilon)\n",
    "    ub = np.amax(np.abs(s))\n",
    "    initial_guess = [1]\n",
    "    alpha = minimize(gcv, initial_guess, \\\n",
    "                     method='L-BFGS-B', bounds=Bounds(lb, ub), args=(s, bhat), \\\n",
    "                     options={'eps': 1.08})\n",
    "    return alpha['x'][0]\n",
    "\n",
    "def tik_deblur_fft(B, P, center, alpha = 0):\n",
    "    # compute eigenvalues\n",
    "    S = fft2(circshift(P, (0 - center[0], 0 - center[1])))\n",
    "    # fix for eigenvalues equal to zero\n",
    "    S = np.where(S != 0, S, float('inf'))\n",
    "    s = S.flatten() # should be col-wise\n",
    "    # calculate regularizaton parameter\n",
    "    bhat = fft2(B)\n",
    "    bhat = bhat.flatten()\n",
    "    # TODO: graph results of varying alphas, compute error between true image and deblurred image\n",
    "    # alpha = gcv_tik(s, bhat)\n",
    "    # compute Tikhonov regularized solution\n",
    "    s = np.where(s != math.inf, s, np.finfo(np.float64).eps)\n",
    "    D = s.conj() * s + abs(alpha)**2\n",
    "    bhat = s.conj() * bhat\n",
    "    xhat = np.divide(bhat, D)\n",
    "    xhat = np.reshape(xhat, B.shape)\n",
    "    x = np.real(ifft2(xhat))\n",
    "    return x"
   ]
  },
  {
   "cell_type": "code",
   "execution_count": 159,
   "metadata": {},
   "outputs": [],
   "source": [
    "### Image utilities\n",
    "def im_float_to_bmp(mat):\n",
    "    '''\n",
    "        Converts floating-point values in a matrix to [0, 255].\n",
    "        Useful for saving the image.\n",
    "    '''\n",
    "    return (mat * 255 / np.max(mat)).astype('uint8')\n",
    "\n",
    "def load_img(path):\n",
    "    '''\n",
    "        Returns a matrix from a given image\n",
    "    '''\n",
    "    mat = np.asarray(Image.open(path))\n",
    "    return mat / 255\n",
    "\n",
    "def save_img(mat, path, kern_size = None):\n",
    "    '''\n",
    "        Saves an image to the specified path. If a kernel size is given,\n",
    "        it will undo the boundary conditions before saving. Otherwise, it will unpack\n",
    "        it assuming a full 3x3 deconstruction.\n",
    "    '''\n",
    "    Image.fromarray(im_float_to_bmp(undo(mat, kern_size))).save(path)\n",
    "\n",
    "def save_img_raw(mat, path):\n",
    "    '''\n",
    "        Saves an image to the specified path. Assumes no undoing of boundary conditions.\n",
    "    '''\n",
    "    Image.fromarray(im_float_to_bmp(mat)).save(path)"
   ]
  },
  {
   "cell_type": "code",
   "execution_count": 160,
   "metadata": {},
   "outputs": [],
   "source": [
    "psf_size   = (32, 32)             # dimensions of PSF\n",
    "psf_fn     = psf_gaussian         # specifies function to generate PSF\n",
    "s          = 2                    # spread of PSF; s = s1 = s2\n",
    "length     = 3\n",
    "angle      = 0\n",
    "noise      = 0.00                 # amount of noise to add to blurred image\n",
    "border_fn  = periodic             # specifies boundary conditions\n",
    "blur_fn    = blur_fft             # specifies how to produce a blur\n",
    "deblur_fn  = naive_deblur_fft       # specifies how to deconvolute a blur\n",
    "img_name   = 'shapes'             # image to use\n",
    "sample_img = 'samples/{}.png'.format(img_name)\n",
    "psf_center = tuple(int(i/2) for i in psf_size)"
   ]
  },
  {
   "cell_type": "code",
   "execution_count": 161,
   "metadata": {},
   "outputs": [],
   "source": [
    "# load true image from path, values are normalized to [0, 1]\n",
    "true_image = load_img(sample_img)\n",
    "\n",
    "# apply boundary conditions\n",
    "boundary_image = border_fn(true_image, tuple(i * 2 for i in psf_size))\n",
    "save_img_raw(boundary_image, 'results/1_{}_boundary.png'.format(img_name))\n",
    "\n",
    "# create the PSF\n",
    "psf = psf_fn(psf_size, s, s, psf_center[0], psf_center[1])\n",
    "# psf = blur(psf_fn, psf_size, length, angle, psf_center[0], psf_center[1])\n",
    "save_img_raw(psf, 'results/2_{}_psf.png'.format(img_name))\n",
    "\n",
    "# pad PSF to the size of the image\n",
    "psf_padded = pad_psf(psf, boundary_image.shape)\n",
    "\n",
    "# blur the true image\n",
    "blurred_true_image = blur_fn(boundary_image, psf_padded, psf_center)\n",
    "save_img_raw(blurred_true_image, 'results/3_{}_true_blurred.png'.format(img_name))\n",
    "\n",
    "# add noise to the blurred true image\n",
    "blurred_true_image = add_noise(blurred_true_image, noise)\n",
    "save_img_raw(blurred_true_image, 'results/4_{}_noisy_blurred.png'.format(img_name))"
   ]
  },
  {
   "cell_type": "code",
   "execution_count": 162,
   "metadata": {},
   "outputs": [],
   "source": [
    "# deblur using true parameters\n",
    "\n",
    "# TODO: no noise, naive version\n",
    "#       - add noise, then tik solver (without GCV, do loop for several lambdas logspace(10**-4, 0, 10)), pick best lambda\n",
    "#       - if that works, then add GCV to compute best lambda automatically\n",
    "#       - add elements back in\n",
    "\n",
    "deblurred_image = deblur_fn(blurred_true_image, psf_padded, psf_center)\n",
    "save_img_raw(deblurred_image, 'results/5_{}_deblurred.png'.format(img_name))"
   ]
  },
  {
   "cell_type": "code",
   "execution_count": 163,
   "metadata": {},
   "outputs": [
    {
     "name": "stdout",
     "output_type": "stream",
     "text": [
      "-- Run 0\n",
      "min s: 1.9899987167756028\n",
      "-- Run 1\n",
      "min s: 1.9899987167756028\n",
      "-- Run 2\n",
      "min s: 1.9899987167756028\n",
      "-- Run 3\n",
      "min s: 1.9899987167756028\n",
      "-- Run 4\n",
      "min s: 1.9899987167756028\n",
      "-- Run 5\n",
      "min s: 1.9899987167756028\n",
      "-- Run 6\n",
      "min s: 1.9899987167756028\n",
      "-- Run 7\n",
      "min s: 1.9899987167756028\n",
      "-- Run 8\n",
      "min s: 1.9899987167756028\n",
      "-- Run 9\n",
      "min s: 1.9899987167756028\n"
     ]
    }
   ],
   "source": [
    "# deblur using alternating minimizer\n",
    "\n",
    "minimized_true_image = blurred_true_image\n",
    "minimized_s          = 3\n",
    "errors               = []\n",
    "tolerance            = 0.25\n",
    "\n",
    "def check_convergence(elements, tolerance):\n",
    "    if len(elements) < 2:\n",
    "        return False\n",
    "    return abs(elements[-1] - elements[-2]) < tolerance\n",
    "\n",
    "# fun(x, *args) -> float\n",
    "def minimize_blur(values, B, X):\n",
    "    s             = values[0]\n",
    "    psf           = psf_fn(psf_size, s, s, psf_center[0], psf_center[1])\n",
    "    psf_padded    = pad_psf(psf, X.shape)\n",
    "    Ax            = blur_fn(boundary_image, psf_padded, psf_center)\n",
    "    return norm(Ax - B, ord='fro')\n",
    "\n",
    "def minimize_blur_tik(values, B, X):\n",
    "    s             = values[0]\n",
    "    psf           = psf_fn(psf_size, s, s, psf_center[0], psf_center[1])\n",
    "    psf_padded    = pad_psf(psf, X.shape)\n",
    "    true_im_guess = tik_deblur_fft(B, psf_padded, psf_center)\n",
    "    return norm(true_im_guess - X, ord='fro')\n",
    "\n",
    "run_number = 0\n",
    "for i in range(10):\n",
    "    print(\"-- Run {}\".format(run_number))\n",
    "    run_number += 1\n",
    "\n",
    "     # create PSF from minimized s\n",
    "    minimized_psf = psf_fn(psf_size, minimized_s, minimized_s, psf_center[0], psf_center[1])\n",
    "    psf_padded    = pad_psf(psf, blurred_true_image.shape)\n",
    "\n",
    "    # deconvolve image using minimized s\n",
    "    minimized_true_image = deblur_fn(blurred_true_image, psf_padded, psf_center)\n",
    "\n",
    "    # attempt to minimize s \n",
    "    minimize_s_result = minimize(minimize_blur_tik, [minimized_s], (blurred_true_image, minimized_true_image))\n",
    "    # assign minimized value from result to minimized_s\n",
    "    minimized_s = minimize_s_result['x'][0]\n",
    "\n",
    "    # compute error between true image and blurred true image\n",
    "    errors.append(norm(minimized_true_image - boundary_image, ord='fro'))\n",
    "    print(\"min s:\", minimized_s)"
   ]
  },
  {
   "cell_type": "code",
   "execution_count": 164,
   "metadata": {},
   "outputs": [
    {
     "data": {
      "application/vnd.plotly.v1+json": {
       "config": {
        "plotlyServerURL": "https://plot.ly"
       },
       "data": [
        {
         "hovertemplate": "s=%{x}<br>errors=%{y}<extra></extra>",
         "legendgroup": "",
         "line": {
          "color": "#636efa",
          "dash": "solid"
         },
         "marker": {
          "symbol": "circle"
         },
         "mode": "lines",
         "name": "",
         "orientation": "v",
         "showlegend": false,
         "type": "scatter",
         "x": [
          0.1,
          0.2606060606060606,
          0.42121212121212126,
          0.5818181818181818,
          0.7424242424242424,
          0.9030303030303031,
          1.0636363636363637,
          1.2242424242424244,
          1.384848484848485,
          1.5454545454545456,
          1.7060606060606063,
          1.866666666666667,
          2.0272727272727273,
          2.187878787878788,
          2.3484848484848486,
          2.5090909090909093,
          2.66969696969697,
          2.8303030303030305,
          2.990909090909091,
          3.151515151515152,
          3.3121212121212125,
          3.472727272727273,
          3.6333333333333337,
          3.7939393939393944,
          3.9545454545454546,
          4.115151515151515,
          4.275757575757575,
          4.4363636363636365,
          4.596969696969697,
          4.757575757575758,
          4.918181818181818,
          5.078787878787879,
          5.239393939393939,
          5.3999999999999995,
          5.5606060606060606,
          5.721212121212121,
          5.881818181818182,
          6.042424242424242,
          6.203030303030303,
          6.363636363636363,
          6.524242424242424,
          6.684848484848485,
          6.845454545454546,
          7.006060606060606,
          7.166666666666667,
          7.327272727272727,
          7.487878787878788,
          7.648484848484848,
          7.809090909090909,
          7.96969696969697,
          8.13030303030303,
          8.290909090909091,
          8.451515151515151,
          8.612121212121211,
          8.772727272727273,
          8.933333333333334,
          9.093939393939394,
          9.254545454545454,
          9.415151515151516,
          9.575757575757576,
          9.736363636363636,
          9.896969696969697,
          10.057575757575759,
          10.218181818181819,
          10.378787878787879,
          10.539393939393939,
          10.7,
          10.860606060606061,
          11.021212121212121,
          11.181818181818182,
          11.342424242424242,
          11.503030303030304,
          11.663636363636364,
          11.824242424242424,
          11.984848484848484,
          12.145454545454546,
          12.306060606060607,
          12.466666666666667,
          12.627272727272727,
          12.787878787878789,
          12.94848484848485,
          13.10909090909091,
          13.26969696969697,
          13.43030303030303,
          13.590909090909092,
          13.751515151515152,
          13.912121212121212,
          14.072727272727272,
          14.233333333333334,
          14.393939393939394,
          14.554545454545455,
          14.715151515151515,
          14.875757575757577,
          15.036363636363637,
          15.196969696969697,
          15.357575757575757,
          15.518181818181818,
          15.67878787878788,
          15.83939393939394,
          16
         ],
         "xaxis": "x",
         "y": [
          153.39836409588673,
          153.39065200301857,
          152.80950426873076,
          151.92319896025126,
          151.35102580829766,
          150.8563091284145,
          150.37482242867864,
          149.89807638061168,
          149.42385171396867,
          148.9510756570084,
          148.47913661576558,
          148.0076614634459,
          147.5364113737818,
          147.06522721427095,
          146.59399898955877,
          146.12264809429882,
          145.65111690685845,
          145.17936311350448,
          144.70735820906728,
          144.23509139627487,
          143.76258102864153,
          143.28989494910235,
          142.81717852616538,
          142.34468603459246,
          141.87280889056248,
          141.4020941667612,
          140.93324873659398,
          140.46712745650854,
          140.00470688785217,
          139.5470483481637,
          139.0952552013086,
          138.65042930401714,
          138.21363073259135,
          137.78584370205596,
          137.36795029725587,
          136.96071249268095,
          136.5647620649716,
          136.18059742927315,
          135.80858612972446,
          135.44897162805438,
          135.1018830975895,
          134.7673470836548,
          134.44530008801544,
          134.13560134073376,
          133.83804521591443,
          133.55237291632756,
          133.27828319097992,
          133.0154419591062,
          132.76349079628307,
          132.52205429726834,
          132.2907463699908,
          132.0691755399664,
          131.8569493579462,
          131.65367800890428,
          131.4589772200129,
          131.27247056100248,
          131.0937912236968,
          130.92258335966088,
          130.75850304653014,
          130.60121894524977,
          130.45041270246844,
          130.3057791449072,
          130.16702630576958,
          130.03387531721887,
          129.90606019760756,
          129.7833275574876,
          129.6654362443925,
          129.55215694291465,
          129.44327174364776,
          129.3385736920517,
          129.23786632618254,
          129.14096321045332,
          129.04768747110705,
          128.95787133784884,
          128.87135569506262,
          128.78798964519547,
          128.70763008620506,
          128.63014130439993,
          128.55539458355068,
          128.48326783077988,
          128.41364521945002,
          128.34641684903426,
          128.28147842177583,
          128.21873093580442,
          128.1580803942692,
          128.0994375299776,
          128.04271754496727,
          127.98783986440941,
          127.93472790421683,
          127.8833088517201,
          127.8335134587773,
          127.78527584668808,
          127.73853332229358,
          127.69322620466306,
          127.64929766178659,
          127.606693556712,
          127.56536230259256,
          127.52525472612997,
          127.48632393892645,
          127.44852521628042
         ],
         "yaxis": "y"
        }
       ],
       "layout": {
        "legend": {
         "tracegroupgap": 0
        },
        "template": {
         "data": {
          "bar": [
           {
            "error_x": {
             "color": "#2a3f5f"
            },
            "error_y": {
             "color": "#2a3f5f"
            },
            "marker": {
             "line": {
              "color": "#E5ECF6",
              "width": 0.5
             },
             "pattern": {
              "fillmode": "overlay",
              "size": 10,
              "solidity": 0.2
             }
            },
            "type": "bar"
           }
          ],
          "barpolar": [
           {
            "marker": {
             "line": {
              "color": "#E5ECF6",
              "width": 0.5
             },
             "pattern": {
              "fillmode": "overlay",
              "size": 10,
              "solidity": 0.2
             }
            },
            "type": "barpolar"
           }
          ],
          "carpet": [
           {
            "aaxis": {
             "endlinecolor": "#2a3f5f",
             "gridcolor": "white",
             "linecolor": "white",
             "minorgridcolor": "white",
             "startlinecolor": "#2a3f5f"
            },
            "baxis": {
             "endlinecolor": "#2a3f5f",
             "gridcolor": "white",
             "linecolor": "white",
             "minorgridcolor": "white",
             "startlinecolor": "#2a3f5f"
            },
            "type": "carpet"
           }
          ],
          "choropleth": [
           {
            "colorbar": {
             "outlinewidth": 0,
             "ticks": ""
            },
            "type": "choropleth"
           }
          ],
          "contour": [
           {
            "colorbar": {
             "outlinewidth": 0,
             "ticks": ""
            },
            "colorscale": [
             [
              0,
              "#0d0887"
             ],
             [
              0.1111111111111111,
              "#46039f"
             ],
             [
              0.2222222222222222,
              "#7201a8"
             ],
             [
              0.3333333333333333,
              "#9c179e"
             ],
             [
              0.4444444444444444,
              "#bd3786"
             ],
             [
              0.5555555555555556,
              "#d8576b"
             ],
             [
              0.6666666666666666,
              "#ed7953"
             ],
             [
              0.7777777777777778,
              "#fb9f3a"
             ],
             [
              0.8888888888888888,
              "#fdca26"
             ],
             [
              1,
              "#f0f921"
             ]
            ],
            "type": "contour"
           }
          ],
          "contourcarpet": [
           {
            "colorbar": {
             "outlinewidth": 0,
             "ticks": ""
            },
            "type": "contourcarpet"
           }
          ],
          "heatmap": [
           {
            "colorbar": {
             "outlinewidth": 0,
             "ticks": ""
            },
            "colorscale": [
             [
              0,
              "#0d0887"
             ],
             [
              0.1111111111111111,
              "#46039f"
             ],
             [
              0.2222222222222222,
              "#7201a8"
             ],
             [
              0.3333333333333333,
              "#9c179e"
             ],
             [
              0.4444444444444444,
              "#bd3786"
             ],
             [
              0.5555555555555556,
              "#d8576b"
             ],
             [
              0.6666666666666666,
              "#ed7953"
             ],
             [
              0.7777777777777778,
              "#fb9f3a"
             ],
             [
              0.8888888888888888,
              "#fdca26"
             ],
             [
              1,
              "#f0f921"
             ]
            ],
            "type": "heatmap"
           }
          ],
          "heatmapgl": [
           {
            "colorbar": {
             "outlinewidth": 0,
             "ticks": ""
            },
            "colorscale": [
             [
              0,
              "#0d0887"
             ],
             [
              0.1111111111111111,
              "#46039f"
             ],
             [
              0.2222222222222222,
              "#7201a8"
             ],
             [
              0.3333333333333333,
              "#9c179e"
             ],
             [
              0.4444444444444444,
              "#bd3786"
             ],
             [
              0.5555555555555556,
              "#d8576b"
             ],
             [
              0.6666666666666666,
              "#ed7953"
             ],
             [
              0.7777777777777778,
              "#fb9f3a"
             ],
             [
              0.8888888888888888,
              "#fdca26"
             ],
             [
              1,
              "#f0f921"
             ]
            ],
            "type": "heatmapgl"
           }
          ],
          "histogram": [
           {
            "marker": {
             "pattern": {
              "fillmode": "overlay",
              "size": 10,
              "solidity": 0.2
             }
            },
            "type": "histogram"
           }
          ],
          "histogram2d": [
           {
            "colorbar": {
             "outlinewidth": 0,
             "ticks": ""
            },
            "colorscale": [
             [
              0,
              "#0d0887"
             ],
             [
              0.1111111111111111,
              "#46039f"
             ],
             [
              0.2222222222222222,
              "#7201a8"
             ],
             [
              0.3333333333333333,
              "#9c179e"
             ],
             [
              0.4444444444444444,
              "#bd3786"
             ],
             [
              0.5555555555555556,
              "#d8576b"
             ],
             [
              0.6666666666666666,
              "#ed7953"
             ],
             [
              0.7777777777777778,
              "#fb9f3a"
             ],
             [
              0.8888888888888888,
              "#fdca26"
             ],
             [
              1,
              "#f0f921"
             ]
            ],
            "type": "histogram2d"
           }
          ],
          "histogram2dcontour": [
           {
            "colorbar": {
             "outlinewidth": 0,
             "ticks": ""
            },
            "colorscale": [
             [
              0,
              "#0d0887"
             ],
             [
              0.1111111111111111,
              "#46039f"
             ],
             [
              0.2222222222222222,
              "#7201a8"
             ],
             [
              0.3333333333333333,
              "#9c179e"
             ],
             [
              0.4444444444444444,
              "#bd3786"
             ],
             [
              0.5555555555555556,
              "#d8576b"
             ],
             [
              0.6666666666666666,
              "#ed7953"
             ],
             [
              0.7777777777777778,
              "#fb9f3a"
             ],
             [
              0.8888888888888888,
              "#fdca26"
             ],
             [
              1,
              "#f0f921"
             ]
            ],
            "type": "histogram2dcontour"
           }
          ],
          "mesh3d": [
           {
            "colorbar": {
             "outlinewidth": 0,
             "ticks": ""
            },
            "type": "mesh3d"
           }
          ],
          "parcoords": [
           {
            "line": {
             "colorbar": {
              "outlinewidth": 0,
              "ticks": ""
             }
            },
            "type": "parcoords"
           }
          ],
          "pie": [
           {
            "automargin": true,
            "type": "pie"
           }
          ],
          "scatter": [
           {
            "fillpattern": {
             "fillmode": "overlay",
             "size": 10,
             "solidity": 0.2
            },
            "type": "scatter"
           }
          ],
          "scatter3d": [
           {
            "line": {
             "colorbar": {
              "outlinewidth": 0,
              "ticks": ""
             }
            },
            "marker": {
             "colorbar": {
              "outlinewidth": 0,
              "ticks": ""
             }
            },
            "type": "scatter3d"
           }
          ],
          "scattercarpet": [
           {
            "marker": {
             "colorbar": {
              "outlinewidth": 0,
              "ticks": ""
             }
            },
            "type": "scattercarpet"
           }
          ],
          "scattergeo": [
           {
            "marker": {
             "colorbar": {
              "outlinewidth": 0,
              "ticks": ""
             }
            },
            "type": "scattergeo"
           }
          ],
          "scattergl": [
           {
            "marker": {
             "colorbar": {
              "outlinewidth": 0,
              "ticks": ""
             }
            },
            "type": "scattergl"
           }
          ],
          "scattermapbox": [
           {
            "marker": {
             "colorbar": {
              "outlinewidth": 0,
              "ticks": ""
             }
            },
            "type": "scattermapbox"
           }
          ],
          "scatterpolar": [
           {
            "marker": {
             "colorbar": {
              "outlinewidth": 0,
              "ticks": ""
             }
            },
            "type": "scatterpolar"
           }
          ],
          "scatterpolargl": [
           {
            "marker": {
             "colorbar": {
              "outlinewidth": 0,
              "ticks": ""
             }
            },
            "type": "scatterpolargl"
           }
          ],
          "scatterternary": [
           {
            "marker": {
             "colorbar": {
              "outlinewidth": 0,
              "ticks": ""
             }
            },
            "type": "scatterternary"
           }
          ],
          "surface": [
           {
            "colorbar": {
             "outlinewidth": 0,
             "ticks": ""
            },
            "colorscale": [
             [
              0,
              "#0d0887"
             ],
             [
              0.1111111111111111,
              "#46039f"
             ],
             [
              0.2222222222222222,
              "#7201a8"
             ],
             [
              0.3333333333333333,
              "#9c179e"
             ],
             [
              0.4444444444444444,
              "#bd3786"
             ],
             [
              0.5555555555555556,
              "#d8576b"
             ],
             [
              0.6666666666666666,
              "#ed7953"
             ],
             [
              0.7777777777777778,
              "#fb9f3a"
             ],
             [
              0.8888888888888888,
              "#fdca26"
             ],
             [
              1,
              "#f0f921"
             ]
            ],
            "type": "surface"
           }
          ],
          "table": [
           {
            "cells": {
             "fill": {
              "color": "#EBF0F8"
             },
             "line": {
              "color": "white"
             }
            },
            "header": {
             "fill": {
              "color": "#C8D4E3"
             },
             "line": {
              "color": "white"
             }
            },
            "type": "table"
           }
          ]
         },
         "layout": {
          "annotationdefaults": {
           "arrowcolor": "#2a3f5f",
           "arrowhead": 0,
           "arrowwidth": 1
          },
          "autotypenumbers": "strict",
          "coloraxis": {
           "colorbar": {
            "outlinewidth": 0,
            "ticks": ""
           }
          },
          "colorscale": {
           "diverging": [
            [
             0,
             "#8e0152"
            ],
            [
             0.1,
             "#c51b7d"
            ],
            [
             0.2,
             "#de77ae"
            ],
            [
             0.3,
             "#f1b6da"
            ],
            [
             0.4,
             "#fde0ef"
            ],
            [
             0.5,
             "#f7f7f7"
            ],
            [
             0.6,
             "#e6f5d0"
            ],
            [
             0.7,
             "#b8e186"
            ],
            [
             0.8,
             "#7fbc41"
            ],
            [
             0.9,
             "#4d9221"
            ],
            [
             1,
             "#276419"
            ]
           ],
           "sequential": [
            [
             0,
             "#0d0887"
            ],
            [
             0.1111111111111111,
             "#46039f"
            ],
            [
             0.2222222222222222,
             "#7201a8"
            ],
            [
             0.3333333333333333,
             "#9c179e"
            ],
            [
             0.4444444444444444,
             "#bd3786"
            ],
            [
             0.5555555555555556,
             "#d8576b"
            ],
            [
             0.6666666666666666,
             "#ed7953"
            ],
            [
             0.7777777777777778,
             "#fb9f3a"
            ],
            [
             0.8888888888888888,
             "#fdca26"
            ],
            [
             1,
             "#f0f921"
            ]
           ],
           "sequentialminus": [
            [
             0,
             "#0d0887"
            ],
            [
             0.1111111111111111,
             "#46039f"
            ],
            [
             0.2222222222222222,
             "#7201a8"
            ],
            [
             0.3333333333333333,
             "#9c179e"
            ],
            [
             0.4444444444444444,
             "#bd3786"
            ],
            [
             0.5555555555555556,
             "#d8576b"
            ],
            [
             0.6666666666666666,
             "#ed7953"
            ],
            [
             0.7777777777777778,
             "#fb9f3a"
            ],
            [
             0.8888888888888888,
             "#fdca26"
            ],
            [
             1,
             "#f0f921"
            ]
           ]
          },
          "colorway": [
           "#636efa",
           "#EF553B",
           "#00cc96",
           "#ab63fa",
           "#FFA15A",
           "#19d3f3",
           "#FF6692",
           "#B6E880",
           "#FF97FF",
           "#FECB52"
          ],
          "font": {
           "color": "#2a3f5f"
          },
          "geo": {
           "bgcolor": "white",
           "lakecolor": "white",
           "landcolor": "#E5ECF6",
           "showlakes": true,
           "showland": true,
           "subunitcolor": "white"
          },
          "hoverlabel": {
           "align": "left"
          },
          "hovermode": "closest",
          "mapbox": {
           "style": "light"
          },
          "paper_bgcolor": "white",
          "plot_bgcolor": "#E5ECF6",
          "polar": {
           "angularaxis": {
            "gridcolor": "white",
            "linecolor": "white",
            "ticks": ""
           },
           "bgcolor": "#E5ECF6",
           "radialaxis": {
            "gridcolor": "white",
            "linecolor": "white",
            "ticks": ""
           }
          },
          "scene": {
           "xaxis": {
            "backgroundcolor": "#E5ECF6",
            "gridcolor": "white",
            "gridwidth": 2,
            "linecolor": "white",
            "showbackground": true,
            "ticks": "",
            "zerolinecolor": "white"
           },
           "yaxis": {
            "backgroundcolor": "#E5ECF6",
            "gridcolor": "white",
            "gridwidth": 2,
            "linecolor": "white",
            "showbackground": true,
            "ticks": "",
            "zerolinecolor": "white"
           },
           "zaxis": {
            "backgroundcolor": "#E5ECF6",
            "gridcolor": "white",
            "gridwidth": 2,
            "linecolor": "white",
            "showbackground": true,
            "ticks": "",
            "zerolinecolor": "white"
           }
          },
          "shapedefaults": {
           "line": {
            "color": "#2a3f5f"
           }
          },
          "ternary": {
           "aaxis": {
            "gridcolor": "white",
            "linecolor": "white",
            "ticks": ""
           },
           "baxis": {
            "gridcolor": "white",
            "linecolor": "white",
            "ticks": ""
           },
           "bgcolor": "#E5ECF6",
           "caxis": {
            "gridcolor": "white",
            "linecolor": "white",
            "ticks": ""
           }
          },
          "title": {
           "x": 0.05
          },
          "xaxis": {
           "automargin": true,
           "gridcolor": "white",
           "linecolor": "white",
           "ticks": "",
           "title": {
            "standoff": 15
           },
           "zerolinecolor": "white",
           "zerolinewidth": 2
          },
          "yaxis": {
           "automargin": true,
           "gridcolor": "white",
           "linecolor": "white",
           "ticks": "",
           "title": {
            "standoff": 15
           },
           "zerolinecolor": "white",
           "zerolinewidth": 2
          }
         }
        },
        "title": {
         "text": "Minimizing Error"
        },
        "xaxis": {
         "anchor": "y",
         "domain": [
          0,
          1
         ],
         "title": {
          "text": "s-value in Gaussian blur"
         }
        },
        "yaxis": {
         "anchor": "x",
         "domain": [
          0,
          1
         ],
         "title": {
          "text": "Error"
         }
        }
       }
      }
     },
     "metadata": {},
     "output_type": "display_data"
    }
   ],
   "source": [
    "# plot errors with different values of s\n",
    "\n",
    "def get_error(s):\n",
    "    psf           = psf_fn(psf_size, s, s, psf_center[0], psf_center[1])\n",
    "    psf_padded    = pad_psf(psf, boundary_image.shape)\n",
    "    Ax            = blur_fn(boundary_image, psf_padded, psf_center)\n",
    "    B             = blurred_true_image\n",
    "    return norm(Ax - B, ord='fro')\n",
    "\n",
    "s_values = np.linspace(0.1, 16, 100)\n",
    "df = pd.DataFrame(dict(\n",
    "    s = s_values,\n",
    "    errors = [get_error(s) for s in s_values]\n",
    "))\n",
    "\n",
    "fig = px.line(df, x = 's', y = 'errors', title = 'Minimizing Error')\n",
    "fig.update_layout(\n",
    "    xaxis_title = 's-value in Gaussian blur',\n",
    "    yaxis_title = 'Error'\n",
    ")\n",
    "# f"
   ]
  }
 ],
 "metadata": {
  "kernelspec": {
   "display_name": "Python 3.8.13 ('mat494')",
   "language": "python",
   "name": "python3"
  },
  "language_info": {
   "codemirror_mode": {
    "name": "ipython",
    "version": 3
   },
   "file_extension": ".py",
   "mimetype": "text/x-python",
   "name": "python",
   "nbconvert_exporter": "python",
   "pygments_lexer": "ipython3",
   "version": "3.8.13"
  },
  "orig_nbformat": 4,
  "vscode": {
   "interpreter": {
    "hash": "35bacb10ad4800ba26c5f733cab3ff54550bf5fe0bfb8294bbdc8524c212fc8a"
   }
  }
 },
 "nbformat": 4,
 "nbformat_minor": 2
}
