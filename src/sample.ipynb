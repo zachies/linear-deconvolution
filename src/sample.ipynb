{
 "cells": [
  {
   "attachments": {},
   "cell_type": "markdown",
   "metadata": {},
   "source": [
    "# 0) Setup"
   ]
  },
  {
   "cell_type": "code",
   "execution_count": null,
   "metadata": {},
   "outputs": [],
   "source": [
    "import util\n",
    "import math\n",
    "import xarray as xr\n",
    "import numpy as np\n",
    "import pandas as pd\n",
    "\n",
    "from blurs import *\n",
    "from scipy.optimize import minimize\n",
    "\n",
    "from plotly.subplots import make_subplots\n",
    "import plotly.express as px\n",
    "import plotly.graph_objects as go"
   ]
  },
  {
   "attachments": {},
   "cell_type": "markdown",
   "metadata": {},
   "source": [
    "# 1) Load the original image"
   ]
  },
  {
   "cell_type": "code",
   "execution_count": null,
   "metadata": {},
   "outputs": [],
   "source": [
    "image = util.load_img('../samples/pumpkins.tif')\n",
    "\n",
    "fig = px.imshow(image, color_continuous_scale='gray', title='Original Image', width=512, height=512)\n",
    "fig.update_layout(coloraxis_showscale=False)\n",
    "fig.update_xaxes(showticklabels=False)\n",
    "fig.update_yaxes(showticklabels=False)\n",
    "fig.show()"
   ]
  },
  {
   "attachments": {},
   "cell_type": "markdown",
   "metadata": {},
   "source": [
    "# 2) Create the point spread function"
   ]
  },
  {
   "cell_type": "code",
   "execution_count": null,
   "metadata": {},
   "outputs": [],
   "source": [
    "psf_params = [3, math.pi/2]\n",
    "psf_fn = linear\n",
    "psf = psf_fn(image.shape, *psf_params)\n",
    "\n",
    "from scipy.fft import ifft2, fftshift\n",
    "psf_img = np.real(fftshift(ifft2(psf)))\n",
    "\n",
    "psf_fig = px.imshow(\n",
    "    psf_img,\n",
    "    color_continuous_scale='gray', \n",
    "    title='Point Spread Function',\n",
    "    width=512, \n",
    "    height=512)\n",
    "psf_fig.show()"
   ]
  },
  {
   "attachments": {},
   "cell_type": "markdown",
   "metadata": {},
   "source": [
    "# 3) Create the blurred image"
   ]
  },
  {
   "cell_type": "code",
   "execution_count": null,
   "metadata": {},
   "outputs": [],
   "source": [
    "image_blurred = blur(image, psf)\n",
    "\n",
    "# optional: add noise\n",
    "noise_factor = 0.01\n",
    "image_blurred = noise(image_blurred, noise_factor)\n",
    "\n",
    "fig = px.imshow(image_blurred, color_continuous_scale='gray', title='Blurred Image', width=512, height=512)\n",
    "fig.update_layout(coloraxis_showscale=False)\n",
    "fig.update_xaxes(showticklabels=False)\n",
    "fig.update_yaxes(showticklabels=False)\n",
    "fig.show()"
   ]
  },
  {
   "attachments": {},
   "cell_type": "markdown",
   "metadata": {},
   "source": [
    "# 4) Deblur the image\n",
    "This assumes that the point source function that was used to generate the blurred image is known. If noise is present when constructing the blurred image, regularization is necessary to compute an approximation of the true image that is not dominated by noise.\n",
    "\n",
    "This code uses a blurred image and point source function to deblur. The blurred image should be defined in real space, while the point source function in Fourier space.\n",
    "\n",
    "## Tikhonov Regularization\n",
    "This deblurring approach filters out values in the point source function according to a regularization parameter $\\phi$, where $S$ is the point source function in Fourier space and $\\alpha$ is a constant value:\n",
    "\n",
    "$$\\phi = \\frac{|S|^2}{|S|^2 + \\alpha^2}$$\n",
    "\n",
    "In the code implementation, a few additional steps are taken to prevent issues with the deblurring attempt. Zero values may exist in $S$ when computing $\\phi$, resulting in a divide-by-zero error. This can be remediated by slightly adjusting the zero values to a non-zero number; in this case, the smallest possible number that can be represented in a computer was chosen. The adjustment takes place before $\\phi$ is computed, and is only applied to $S$ in the denominator of the equation."
   ]
  },
  {
   "cell_type": "code",
   "execution_count": null,
   "metadata": {},
   "outputs": [],
   "source": [
    "def deblur_tik(alpha, S, blurred_img):\n",
    "    # S is fft2(circshift(psf))\n",
    "\n",
    "    # phi = abs(S).^2 ./ (abs(s).^2 + alpha^2)\n",
    "    # perform adjustment to values which could result in division by zero\n",
    "    denominator = np.absolute(np.square(S)) + np.square(alpha)\n",
    "    denominator = np.where(denominator == 0, np.finfo(float).eps, denominator)\n",
    "    phi = np.divide(np.absolute(np.square(S)), denominator)\n",
    "\n",
    "    # filter out S values according to phi \n",
    "    S_filt = np.zeros(phi.shape)\n",
    "    idx = S != 0\n",
    "    S_filt[idx] = np.divide(phi[idx], S[idx])\n",
    "\n",
    "    # deblur using filtered S\n",
    "    X_filt = ifft2(np.multiply(fft2(blurred_img), S_filt)).real\n",
    "\n",
    "    return X_filt\n",
    "\n",
    "def deblur_tik_min(S):\n",
    "    # error function; norm of deblurred image with blurred image\n",
    "    error_function = lambda input, S, blurred_img: np.linalg.norm(deblur_tik(input[0], S, blurred_img) - image, ord='fro')\n",
    "\n",
    "    initial_alpha = 0.1\n",
    "    # since minimizer takes in a vector, need to get first element (which will store alpha)\n",
    "    result = minimize(error_function, [initial_alpha], args=(S, image_blurred), bounds=[(0, 32)])\n",
    "\n",
    "    # returns min alpha\n",
    "    return result\n",
    "\n",
    "def deblur_psf(psf_params, deblurred_img):\n",
    "    S_i = linear(image.shape, *psf_params)\n",
    "    return blur(deblurred_img, S_i)\n",
    "\n",
    "def error_function(psf_params, deblurred_img, blurred_img):\n",
    "    result = np.linalg.norm(deblur_psf(psf_params, deblurred_img) - blurred_img, ord='fro')\n",
    "    return result\n",
    "\n",
    "def deblur_psf_min(deblurred_img, initial_length):\n",
    "    # min_{length, angle} = ||A(length, angle) x - b||\n",
    "    # error_function = lambda psf_params, deblurred_img, blurred_img: np.linalg.norm(deblur_psf(psf_params, deblurred_img) - blurred_img, ord='fro')\n",
    "\n",
    "    # specifting the solver as 'Powell' was important; otherwise it was stuck at wrong values\n",
    "    result = minimize(error_function, [initial_length], args=(deblurred_img, image_blurred), method='Powell', bounds=[(0, 16)])\n",
    "\n",
    "    return result"
   ]
  },
  {
   "cell_type": "code",
   "execution_count": null,
   "metadata": {},
   "outputs": [],
   "source": [
    "# deblur image using various alpha regularization params\n",
    "# also normalize image values to range [0, 1]\n",
    "alphas = np.linspace(0, 1, 11)\n",
    "image_sequence = [util.normalize(deblur_tik(alpha, psf, image_blurred)) for alpha in alphas]\n",
    "\n",
    "# plot\n",
    "fig = px.imshow(np.array(image_sequence), animation_frame=0, color_continuous_scale='gray', title='Deblurred Image', width=512, height=512,\n",
    "                labels=dict(animation_frame=\"alpha step\"))\n",
    "fig.update_layout(coloraxis_showscale=False)\n",
    "fig.update_xaxes(showticklabels=False)\n",
    "fig.update_yaxes(showticklabels=False)\n",
    "fig.show()"
   ]
  },
  {
   "attachments": {},
   "cell_type": "markdown",
   "metadata": {},
   "source": [
    "# 5) Deblur using Alternating Minimization Technique"
   ]
  },
  {
   "cell_type": "code",
   "execution_count": null,
   "metadata": {},
   "outputs": [],
   "source": [
    "import time\n",
    "\n",
    "prev_li = math.nan\n",
    "li      = 10\n",
    "prev_ai = math.nan\n",
    "ai      = 0\n",
    "\n",
    "images = []\n",
    "errors = []\n",
    "psf_lis = []\n",
    "times   = []\n",
    "\n",
    "step = 1\n",
    "# while not math.isclose(prev_li, li) and not math.isclose(prev_ai, ai):\n",
    "while not math.isclose(prev_li, li):\n",
    "    start_time = time.time()\n",
    "    # fix length and angle for guess\n",
    "    psfi = linear(image.shape, li, ai)\n",
    "    min_alpha = deblur_tik_min(psfi).x[0]\n",
    "    deblurred_img = deblur_tik(min_alpha, psfi, image_blurred)\n",
    "\n",
    "    # fix image for guess\n",
    "    next_A = deblur_psf_min(deblurred_img, li)\n",
    "    psf_lis.append(li)\n",
    "    prev_li = li\n",
    "    prev_ai = ai\n",
    "    li = next_A.x[0]\n",
    "\n",
    "    end_time = time.time()\n",
    "\n",
    "    images.append(np.real(deblurred_img))\n",
    "\n",
    "    error = np.linalg.norm(deblurred_img - image, ord='fro') / np.linalg.norm(image, ord='fro')\n",
    "    errors.append(error)\n",
    "    times.append(end_time - start_time)\n",
    "    \n",
    "    step += 1\n",
    "\n",
    "fig = px.imshow(np.array(images), animation_frame=0, color_continuous_scale='gray', title='Deblurred Image', width=512, height=512,\n",
    "                labels=dict(animation_frame=\"iteration\"))\n",
    "fig.update_layout(coloraxis_showscale=False)\n",
    "fig.update_xaxes(showticklabels=False)\n",
    "fig.update_yaxes(showticklabels=False)\n",
    "\n",
    "fig.show()"
   ]
  },
  {
   "cell_type": "code",
   "execution_count": null,
   "metadata": {},
   "outputs": [],
   "source": [
    "from plotly.subplots import make_subplots\n",
    "\n",
    "fig = make_subplots(rows=2, cols=3)\n",
    "i = 1\n",
    "while i < 7:\n",
    "    fig.add_trace(px.imshow(util.normalize(images[i-1]), origin='lower').data[0], row=(1 if i <= 3 else 2), col=(((i - 1) % 3) + 1))\n",
    "    i += 1\n",
    "\n",
    "# add true image\n",
    "fig.add_trace(px.imshow(util.normalize(image), origin='lower').data[0], row=2, col=3)\n",
    "\n",
    "layout = px.imshow(images[0], aspect='equal', color_continuous_scale='gray').layout\n",
    "fig.layout.coloraxis = layout.coloraxis\n",
    "fig.update_layout(width=1000, height=600, margin=dict(l=10, r=10, b=10, t=10))\n",
    "fig.update_yaxes(autorange='reversed')\n",
    "\n",
    "i = 1\n",
    "for row in range(2):\n",
    "    for col in range(3):\n",
    "        fig.update_xaxes(title_text=f\"iteration {i}\", row=row+1, col=col+1)\n",
    "        i += 1\n",
    "fig.update_xaxes(title_text=f\"original image\", row=2, col=3)\n",
    "fig.show()"
   ]
  },
  {
   "cell_type": "code",
   "execution_count": null,
   "metadata": {},
   "outputs": [],
   "source": [
    "# plot of errors\n",
    "\n",
    "fig = go.Figure()\n",
    "fig.add_trace(go.Scatter(x=[i for i in range(1, 6)], y=errors[0:6],\n",
    "                    line_shape='spline',\n",
    "                    line=dict(width=12, color=\"#444444\")))\n",
    "\n",
    "# fig = px.line()\n",
    "fig.update_traces(marker_size=32)\n",
    "fig.update_layout(width=1200, height=600, margin=dict(l=10, r=10, b=10, t=10),\n",
    "    plot_bgcolor='rgba(0,0,0,0)', font=dict(\n",
    "        size=24,\n",
    "    ))\n",
    "fig.update_xaxes(title_text=\"Iteration Number\", linecolor='black', gridcolor='lightgray', nticks=5)\n",
    "fig.update_yaxes(title_text=\"Relative Error between<br>Deblurred and Original Image\", linecolor='black', gridcolor='lightgray')\n",
    "fig.show()"
   ]
  },
  {
   "cell_type": "code",
   "execution_count": null,
   "metadata": {},
   "outputs": [],
   "source": [
    "# plot of times\n",
    "\n",
    "fig = go.Figure()\n",
    "fig.add_trace(go.Scatter(x=[i for i in range(1, 6)], y=times,\n",
    "                    line_shape='spline',\n",
    "                    line=dict(width=12, color=\"#0000ff\")))\n",
    "\n",
    "print(sum(times))\n",
    "\n",
    "# fig = px.line()\n",
    "fig.update_traces(marker_size=32)\n",
    "fig.update_layout(width=1600, height=1000, margin=dict(l=10, r=10, b=10, t=10),\n",
    "    plot_bgcolor='rgba(0,0,0,0)', font=dict(\n",
    "        size=24,\n",
    "    ))\n",
    "fig.update_xaxes(title_text=\"Iteration Number\", linecolor='black', gridcolor='lightgray', nticks=5)\n",
    "fig.update_yaxes(title_text=\"Iteration Time (s)\", linecolor='black', gridcolor='lightgray')\n",
    "fig.show()"
   ]
  },
  {
   "attachments": {},
   "cell_type": "markdown",
   "metadata": {},
   "source": [
    "# Plot of Convergence Curve for PSF Error"
   ]
  },
  {
   "cell_type": "code",
   "execution_count": null,
   "metadata": {},
   "outputs": [],
   "source": [
    "psf_matrices = [np.real(fftshift(ifft2(linear(image.shape, l, ai)))) for l in psf_lis]\n",
    "psf_errors   = [np.linalg.norm(m - psf_img, ord='fro') / np.linalg.norm(psf_img, ord='fro') for m in psf_matrices]\n",
    "\n",
    "# fig = px.imshow(np.array(psf_matrices), animation_frame=0, color_continuous_scale='gray', title='Deblurred Image', width=512, height=512,\n",
    "#                 labels=dict(animation_frame=\"iteration\"))\n",
    "# fig.update_layout(coloraxis_showscale=False)\n",
    "# fig.update_xaxes(showticklabels=False)\n",
    "# fig.update_yaxes(showticklabels=False)\n",
    "\n",
    "# fig.show()\n",
    "\n",
    "fig = go.Figure()\n",
    "fig.add_trace(go.Scatter(x=[i for i in range(1, 6)], y=psf_errors,\n",
    "                    line_shape='spline',\n",
    "                    line=dict(width=12, color=\"#0000ff\")))\n",
    "\n",
    "print(sum(times))\n",
    "\n",
    "# fig = px.line()\n",
    "fig.update_traces(marker_size=32)\n",
    "fig.update_layout(width=1600, height=1000, margin=dict(l=10, r=10, b=10, t=10),\n",
    "    plot_bgcolor='rgba(0,0,0,0)', font=dict(\n",
    "        size=24,\n",
    "    ))\n",
    "fig.update_xaxes(title_text=\"Iteration Number\", linecolor='black', gridcolor='lightgray', nticks=5)\n",
    "fig.update_yaxes(title_text=\"Iteration Time (s)\", linecolor='black', gridcolor='lightgray')\n",
    "fig.show()"
   ]
  },
  {
   "attachments": {},
   "cell_type": "markdown",
   "metadata": {},
   "source": [
    "# Plot of Relative Errors when Deblurring"
   ]
  },
  {
   "cell_type": "code",
   "execution_count": null,
   "metadata": {},
   "outputs": [],
   "source": [
    "# # number of samples to take\n",
    "# num_samples = 20\n",
    "\n",
    "# lengths = np.linspace(1, 20, num_samples)\n",
    "# angles  = np.linspace(0, 2*np.pi, num_samples)\n",
    "# errors  = []\n",
    "\n",
    "# # error_fn = lambda psf_params: np.linalg.norm(deblur_psf(psf_params, deblurred_img) - image_blurred, ord='fro')\n",
    "\n",
    "# # iterate over lengths\n",
    "# for l in lengths:\n",
    "#     row = []\n",
    "#     for a in angles:\n",
    "#         psfi = linear(image.shape, l, a)\n",
    "#         min_alpha = deblur_tik_min(psfi).x[0]\n",
    "#         deblurred_img = deblur_tik(min_alpha, psfi, image_blurred)\n",
    "\n",
    "#         error = np.linalg.norm(blur(images[0], psfi) - image_blurred)\n",
    "#         row.append(error)\n",
    "#     errors.append(row)\n",
    "\n",
    "fig = go.Figure(data=[go.Surface(z=errors, y=lengths, x=angles)])\n",
    "fig.update_layout(width=1000, height=800,\n",
    "                  margin=dict(l=0, r=0, b=0, t=0),\n",
    "                  scene = dict(\n",
    "                    xaxis_title='Angle (rad)',\n",
    "                    yaxis_title='Length (pixels)',\n",
    "                    zaxis_title='Relative Error'))\n",
    "fig.show()"
   ]
  }
 ],
 "metadata": {
  "kernelspec": {
   "display_name": "mat494",
   "language": "python",
   "name": "python3"
  },
  "language_info": {
   "codemirror_mode": {
    "name": "ipython",
    "version": 3
   },
   "file_extension": ".py",
   "mimetype": "text/x-python",
   "name": "python",
   "nbconvert_exporter": "python",
   "pygments_lexer": "ipython3",
   "version": "3.8.13"
  },
  "orig_nbformat": 4,
  "vscode": {
   "interpreter": {
    "hash": "35bacb10ad4800ba26c5f733cab3ff54550bf5fe0bfb8294bbdc8524c212fc8a"
   }
  }
 },
 "nbformat": 4,
 "nbformat_minor": 2
}
