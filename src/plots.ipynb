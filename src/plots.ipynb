{
 "cells": [
  {
   "attachments": {},
   "cell_type": "markdown",
   "metadata": {},
   "source": [
    "# Plots for Thesis Paper"
   ]
  },
  {
   "cell_type": "code",
   "execution_count": null,
   "metadata": {},
   "outputs": [],
   "source": [
    "import util\n",
    "import math\n",
    "import numpy as np\n",
    "\n",
    "from blurs import *\n",
    "\n",
    "from plotly.subplots import make_subplots\n",
    "import plotly.express as px\n",
    "import plotly.graph_objects as go"
   ]
  },
  {
   "attachments": {},
   "cell_type": "markdown",
   "metadata": {},
   "source": [
    "## Plots of PSF Functions"
   ]
  },
  {
   "cell_type": "code",
   "execution_count": null,
   "metadata": {},
   "outputs": [],
   "source": [
    "psf_linear = linear((32, 32), *[7, math.pi/4])\n",
    "psf_gaussian = gaussian((32, 32), *[3, 1.5])\n",
    "psf_radial = radial((32, 32), 9)\n",
    "\n",
    "from plotly import subplots\n",
    "from scipy.fft import ifft2, fftshift\n",
    "\n",
    "psf_linear = util.normalize(np.real(fftshift(ifft2(psf_linear))))\n",
    "psf_gaussian = util.normalize(np.real(fftshift(ifft2(psf_gaussian))))\n",
    "psf_radial = util.normalize(np.real(fftshift(ifft2(psf_radial))))\n",
    "psfs = [psf_linear, psf_radial, psf_gaussian]\n",
    "\n",
    "fig = subplots.make_subplots(rows=1, cols=3)\n",
    "i = 1\n",
    "for p in psfs:\n",
    "    fig.add_trace(px.imshow(p).data[0], row=1, col=i)\n",
    "    i += 1\n",
    "\n",
    "layout = px.imshow(psf_linear, aspect='equal', color_continuous_scale='gray').layout\n",
    "fig.layout.coloraxis = layout.coloraxis\n",
    "fig.update_layout(width=1000, height=300, margin=dict(l=10, r=10, b=10, t=10))\n",
    "fig.show()\n",
    "\n",
    "# fig = px.imshow(psf_linear, aspect='equal', color_continuous_scale='gray')\n",
    "# fig.update_layout(width=400, height=400, margin=dict(l=10, r=10, b=10, t=10))\n",
    "# fig.show()\n",
    "\n",
    "# fig = px.imshow(psf_gaussian, aspect='equal', color_continuous_scale='gray')\n",
    "# fig.update_layout(width=400, height=400, margin=dict(l=10, r=10, b=10, t=10))\n",
    "# fig.show()\n",
    "\n",
    "# fig = px.imshow(psf_radial, aspect='equal', color_continuous_scale='gray')\n",
    "# fig.update_layout(width=400, height=400, margin=dict(l=10, r=10, b=10, t=10))\n",
    "# fig.show()"
   ]
  },
  {
   "attachments": {},
   "cell_type": "markdown",
   "metadata": {},
   "source": [
    "# Shapes Blur"
   ]
  },
  {
   "cell_type": "code",
   "execution_count": null,
   "metadata": {},
   "outputs": [],
   "source": [
    "image = util.load_img('../samples/shapes.png')\n",
    "\n",
    "psf_params = [2, 2]\n",
    "psf_fn = gaussian\n",
    "psf = psf_fn(image.shape, *psf_params)\n",
    "\n",
    "from scipy.fft import ifft2, fftshift\n",
    "psf_img = np.real(fftshift(ifft2(psf)))\n",
    "psf_gaussian = util.normalize(np.real(fftshift(ifft2(psf))))\n",
    "\n",
    "image_blurred = blur(image, psf)\n",
    "\n",
    "# optional: add noise\n",
    "noise_factor = 0\n",
    "image_blurred = noise(image_blurred, noise_factor)\n",
    "\n",
    "images = [util.normalize(image), image_blurred]\n",
    "\n",
    "fig = subplots.make_subplots(rows=1, cols=2)\n",
    "i = 1\n",
    "for p in images:\n",
    "    fig.add_trace(px.imshow(p).data[0], row=1, col=i)\n",
    "    i += 1\n",
    "\n",
    "layout = px.imshow(psf_gaussian, aspect='equal', color_continuous_scale='gray').layout\n",
    "fig.layout.coloraxis = layout.coloraxis\n",
    "fig.update_layout(width=700, height=300, margin=dict(l=10, r=10, b=10, t=10))\n",
    "fig.show()"
   ]
  },
  {
   "attachments": {},
   "cell_type": "markdown",
   "metadata": {},
   "source": [
    "# Shapes Deblur"
   ]
  },
  {
   "cell_type": "code",
   "execution_count": null,
   "metadata": {},
   "outputs": [],
   "source": [
    "image = util.load_img('../samples/shapes.png')\n",
    "\n",
    "psf_params = [1, 1]\n",
    "psf_fn = gaussian\n",
    "psf = psf_fn(image.shape, *psf_params)\n",
    "\n",
    "from scipy.fft import ifft2, fftshift\n",
    "psf_img = np.real(fftshift(ifft2(psf)))\n",
    "psf_gaussian = util.normalize(np.real(fftshift(ifft2(psf))))\n",
    "\n",
    "image_blurred = blur(image, psf)\n",
    "\n",
    "# optional: add noise\n",
    "noise_factor = 0.005\n",
    "image_blurred = noise(image_blurred, noise_factor)\n",
    "\n",
    "def deblur_tik(alpha, S, blurred_img):\n",
    "    # S is fft2(circshift(psf))\n",
    "\n",
    "    # phi = abs(S).^2 ./ (abs(s).^2 + alpha^2)\n",
    "    # perform adjustment to values which could result in division by zero\n",
    "    denominator = np.absolute(np.square(S)) + np.square(alpha)\n",
    "    denominator = np.where(denominator == 0, np.finfo(float).eps, denominator)\n",
    "    phi = np.divide(np.absolute(np.square(S)), denominator)\n",
    "\n",
    "    # filter out S values according to phi \n",
    "    S_filt = np.zeros(phi.shape)\n",
    "    idx = S != 0\n",
    "    S_filt[idx] = np.divide(phi[idx], S[idx])\n",
    "\n",
    "    # deblur using filtered S\n",
    "    X_filt = ifft2(np.multiply(fft2(blurred_img), S_filt)).real\n",
    "\n",
    "    return X_filt\n",
    "\n",
    "image_deblurred = deblur_tik(0, psf, image_blurred)\n",
    "\n",
    "images = [image_blurred, util.normalize(image_deblurred)]\n",
    "\n",
    "fig = subplots.make_subplots(rows=1, cols=2)\n",
    "i = 1\n",
    "for p in images:\n",
    "    fig.add_trace(px.imshow(p).data[0], row=1, col=i)\n",
    "    i += 1\n",
    "\n",
    "layout = px.imshow(psf_gaussian, aspect='equal', color_continuous_scale='gray').layout\n",
    "fig.layout.coloraxis = layout.coloraxis\n",
    "fig.update_layout(width=700, height=300, margin=dict(l=10, r=10, b=10, t=10))\n",
    "fig.show()"
   ]
  }
 ],
 "metadata": {
  "kernelspec": {
   "display_name": "mat494",
   "language": "python",
   "name": "python3"
  },
  "language_info": {
   "codemirror_mode": {
    "name": "ipython",
    "version": 3
   },
   "file_extension": ".py",
   "mimetype": "text/x-python",
   "name": "python",
   "nbconvert_exporter": "python",
   "pygments_lexer": "ipython3",
   "version": "3.8.13"
  },
  "orig_nbformat": 4,
  "vscode": {
   "interpreter": {
    "hash": "35bacb10ad4800ba26c5f733cab3ff54550bf5fe0bfb8294bbdc8524c212fc8a"
   }
  }
 },
 "nbformat": 4,
 "nbformat_minor": 2
}
